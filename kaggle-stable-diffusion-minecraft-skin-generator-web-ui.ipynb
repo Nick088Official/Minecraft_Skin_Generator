{
 "cells": [
  {
   "cell_type": "markdown",
   "metadata": {},
   "source": [
    "# Stable Diffusion Finetuned Minecraft Skin Generator WEB UI\n",
    "\n",
    "**WARNING: WEB UI COULD RISK YOUR KAGGLE ACC**\n",
    "\n",
    "Credits:\n",
    "- Author of the AI Model: Cory Spencer <cory@monadical.com>\n",
    "- Forked Improved Version & Ports: [Nick088](https://linktr.ee/Nick088)\n",
    "- daroche (helping me fix the 3d model texture isue)\n",
    "- [Brottweiler](https://gist.github.com/Brottweiler/483d0856c6692ef70cf90bf1a85ce364) (script to fix the 3d model texture)\n",
    "- [not-holar](https://huggingface.co/not-holar) (made the rendering of the image asset in the web ui look pixelated like minecraft and have a checkered background)\n",
    "- [meew](https://huggingface.co/spaces/meeww/Minecraft_Skin_Generator/blob/main/models/player_model.glb) (Minecraft Player 3d model)"
   ]
  },
  {
   "cell_type": "markdown",
   "metadata": {},
   "source": [
    "# Install\n",
    "If you get a restart runtime warning, you don't have to, just click cancel"
   ]
  },
  {
   "cell_type": "code",
   "execution_count": null,
   "metadata": {
    "trusted": true
   },
   "outputs": [],
   "source": [
    "!git clone https://github.com/Nick088Official/Stable_Diffusion_Finetuned_Minecraft_Skin_Generator.git\n",
    "%cd /kaggle/working/Stable_Diffusion_Finetuned_Minecraft_Skin_Generator\n",
    "!pip install -r Scripts/requirements_ui.txt\n",
    "!apt update\n",
    "!apt install -y imagemagick psmisc\n",
    "from IPython.display import clear_output\n",
    "clear_output()\n",
    "print(\"Installed!\")"
   ]
  },
  {
   "cell_type": "markdown",
   "metadata": {},
   "source": [
    "# Run Inference UI\n",
    "Select the Tunneling Service to Generate the Public URL:\n",
    "\n",
    "- Ngrok: Select it in Tunnel, get the Ngrok Tunnel Authtoken here: https://dashboard.ngrok.com/tunnels/authtokens/new, put it in ngrok_tunnel_authtoken, run the, wait for the Local URL to appear and click on the Ngrok Tunnel Public URL which is above.\n",
    "\n",
    "- LocalTunnel: Select it in Tunnel, run the cell, wait for the Local URL to appear, copy the LocalTunnel Password displayed under the public link and paste it in Tunnel Password of the LocalTunnel Tunnel Public URL which is above.\n",
    "\n",
    "- Horizon: Select it in Tunnel, get the Horizon ID here: https://hrzn.run/dashboard/, login, on the 2nd step, it shows an hrzn login YOUR_ID, you need to copy that id and put it in horizon_id. Then run the cell, you will get an 'HORIZON: Authorize at https://hrzn.run/dashboard/settings/cli-token-requests/YOUR_ID', click it, do Approve. At the end, run the cell, wait for the Local URL to appear and click on the Horizon Tunnel Public URL which is above."
   ]
  },
  {
   "cell_type": "code",
   "execution_count": null,
   "metadata": {
    "trusted": true
   },
   "outputs": [
    {
     "ename": "",
     "evalue": "",
     "output_type": "error",
     "traceback": [
      "\u001b[1;31mRunning cells with 'base (Python 3.12.9)' requires the ipykernel package.\n",
      "\u001b[1;31m<a href='command:jupyter.createPythonEnvAndSelectController'>Create a Python Environment</a> with the required packages.\n",
      "\u001b[1;31mOr install 'ipykernel' using the command: 'conda install -n base ipykernel --update-deps --force-reinstall'"
     ]
    }
   ],
   "source": [
    "import re\n",
    "from IPython.display import clear_output\n",
    "\n",
    "\n",
    "Tunnel = \"LocalTunnel\" #@param [\"Ngrok\", \"LocalTunnel\", \"Horizon\"]\n",
    "ngrok_tunnel_authtoken = \"\" #@param {type:\"string\"}\n",
    "horizon_id = \"\" #@param {type:\"string\"}\n",
    "    \n",
    "\n",
    "%cd /kaggle/working/Stable_Diffusion_Finetuned_Minecraft_Skin_Generator\n",
    "if Tunnel == \"Ngrok\":\n",
    "  !pip install pyngrok\n",
    "  from pyngrok import ngrok\n",
    "  ngrok.set_auth_token(ngrok_tunnel_authtoken)\n",
    "  ngrok_tunnel = ngrok.connect(7860, bind_tls=True)\n",
    "  print(\"Ngrok Tunnel Public URL:\", ngrok_tunnel.public_url)\n",
    "elif Tunnel == \"LocalTunnel\":\n",
    "  # install\n",
    "  !npm install -g localtunnel\n",
    "  import time\n",
    "  import urllib\n",
    "  # run localtunnel\n",
    "  with open('url.txt', 'w') as file:\n",
    "        file.write('')\n",
    "\n",
    "  get_ipython().system_raw('lt --port 7860 >> url.txt 2>&1 &')\n",
    "\n",
    "  time.sleep(4)\n",
    "\n",
    "  endpoint_ip = urllib.request.urlopen('https://ipv4.icanhazip.com').read().decode('utf8').strip(\"\\n\")\n",
    "\n",
    "  with open('url.txt', 'r') as file:\n",
    "      tunnel_url = file.read()\n",
    "      tunnel_url = tunnel_url.replace(\"your url is: \", \"\")\n",
    "\n",
    "  clear_output()\n",
    "\n",
    "  print(f\"LocalTunnel Tunnel Public URL: {tunnel_url}\")\n",
    "  print(f'LocalTunnels Password: {endpoint_ip}')\n",
    "elif Tunnel == \"Horizon\":\n",
    "  # install \n",
    "  !npm install -g @hrzn/cli\n",
    "  import time\n",
    "  # login\n",
    "  !hrzn login $horizon_id\n",
    "  # run horizon\n",
    "  with open('url.txt', 'w') as file:\n",
    "        file.write('')\n",
    "\n",
    "  get_ipython().system_raw('hrzn tunnel http://localhost:7860 >> url.txt 2>&1 &')\n",
    "\n",
    "  time.sleep(4)\n",
    "\n",
    "  with open('url.txt', 'r') as file:\n",
    "      tunnel_url = file.read()\n",
    "      tunnel_url = !grep -oE \"https://[a-zA-Z0-9.-]+\\.hrzn\\.run\" url.txt\n",
    "      tunnel_url = tunnel_url[0]\n",
    "\n",
    "  clear_output()\n",
    "\n",
    "  print(f\"Horizon Tunnel Public URL: {tunnel_url}\")\n",
    "\n",
    "\n",
    "# kills previously running processes\n",
    "!fuser -k 7860/tcp\n",
    "\n",
    "\n",
    "!python Scripts/Run_Inference_UI.py"
   ]
  }
 ],
 "metadata": {
  "kaggle": {
   "accelerator": "tpu1vmV38",
   "dataSources": [],
   "dockerImageVersionId": 30788,
   "isGpuEnabled": false,
   "isInternetEnabled": true,
   "language": "python",
   "sourceType": "notebook"
  },
  "kernelspec": {
   "display_name": "base",
   "language": "python",
   "name": "python3"
  },
  "language_info": {
   "codemirror_mode": {
    "name": "ipython",
    "version": 3
   },
   "file_extension": ".py",
   "mimetype": "text/x-python",
   "name": "python",
   "nbconvert_exporter": "python",
   "pygments_lexer": "ipython3",
   "version": "3.12.9"
  }
 },
 "nbformat": 4,
 "nbformat_minor": 4
}
