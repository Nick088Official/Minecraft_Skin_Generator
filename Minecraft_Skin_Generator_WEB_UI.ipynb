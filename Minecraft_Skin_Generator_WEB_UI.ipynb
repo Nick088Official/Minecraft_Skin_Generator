{
  "cells": [
    {
      "cell_type": "markdown",
      "metadata": {
        "id": "view-in-github",
        "colab_type": "text"
      },
      "source": [
        "<a href=\"https://colab.research.google.com/github/Nick088Official/Minecraft_Skin_Generator/blob/main/Minecraft_Skin_Generator_WEB_UI.ipynb\" target=\"_parent\"><img src=\"https://colab.research.google.com/assets/colab-badge.svg\" alt=\"Open In Colab\"/></a>"
      ]
    },
    {
      "cell_type": "markdown",
      "source": [
        "# Minecraft Skin Generator WEB UI\n",
        "\n",
        "**WARNING: WEB UI COULD RISK YOUR FREE TIER COLAB ACC**\n",
        "\n",
        "Credits:\n",
        "- Author of the AI Model: Cory Spencer <cory@monadical.com>\n",
        "- Forked Improved Version & Ports: [Nick088](https://linktr.ee/Nick088)\n",
        "- daroche (helping me fix the 3d model texture isue)\n",
        "- [Brottweiler](https://gist.github.com/Brottweiler/483d0856c6692ef70cf90bf1a85ce364) (script to fix the 3d model texture)\n",
        "- [not-holar](https://huggingface.co/not-holar) (made the rendering of the image in the web ui look pixelated like minecraft and have a checkered background)\n",
        "- [meew](https://huggingface.co/spaces/meeww/Minecraft_Skin_Generator/blob/main/models/player_model.glb) (Minecraft Player 3d model)"
      ],
      "metadata": {
        "id": "Va5kmdY9wd9n"
      }
    },
    {
      "cell_type": "code",
      "execution_count": null,
      "metadata": {
        "id": "xVXg-SypqUxb",
        "cellView": "form"
      },
      "outputs": [],
      "source": [
        "#@title Install\n",
        "#@markdown If you get a restart runtime warning, you don't have to, just click cancel\n",
        "!git clone https://github.com/Nick088Official/Minecraft_Skin_Generator.git\n",
        "%cd Minecraft_Skin_Generator\n",
        "!pip install -r Scripts/requirements_ui.txt\n",
        "!apt update\n",
        "!apt install -y imagemagick psmisc\n",
        "from IPython.display import clear_output\n",
        "clear_output()\n",
        "print(\"Installed!\")"
      ]
    },
    {
      "cell_type": "code",
      "source": [
        "#@title Run Inference UI\n",
        "\n",
        "#@markdown The type of tunnel you wanna use for seeing the public link, so that if one of them is down, you can use the other one.\n",
        "Tunnel = \"Gradio\" #@param [\"Gradio\", \"Ngrok\", \"Cloudflare\", \"LocalTunnel\", \"Horizon\"]\n",
        "\n",
        "#@markdown Also when using Ngrok ,Cloudflare, LocalTunnel or Horizon, you need to wait for the Local URL to appear, and only after that click on the Public URL which is above.\n",
        "\n",
        "#@markdown Use the following option **only if you chose Ngrok** as the Tunnel:\n",
        "\n",
        "#@markdown You can get the Ngrok Authtoken here: https://dashboard.ngrok.com/tunnels/authtokens/new.\n",
        "\n",
        "ngrok_authtoken = \"\" #@param {type:\"string\"}\n",
        "\n",
        "\n",
        "#@markdown Use the following option **only if you chose Horizon** as the Tunnel:\n",
        "\n",
        "#@markdown You can get the Horizon ID here: https://hrzn.run/dashboard/ , login, on the 2nd step, it shows an `hrzn login YOUR_ID`, you need to copy that id.\n",
        "\n",
        "horizon_id = \"\" #@param {type:\"string\"}\n",
        "\n",
        "\n",
        "if Tunnel == \"Gradio\":\n",
        "  share_flag = \"--share\"\n",
        "elif Tunnel == \"Ngrok\":\n",
        "  share_flag = \"\"\n",
        "  from pyngrok import ngrok\n",
        "  ngrok.set_auth_token(ngrok_authtoken)\n",
        "  http_tunnel = ngrok.connect(7860, bind_tls=True)\n",
        "  print(\"Ngrok Tunnel Public URL:\", http_tunnel.public_url)\n",
        "elif Tunnel == \"Cloudflare\":\n",
        "  share_flag = \"\"\n",
        "  # download cloudflare\n",
        "  !curl -LO https://github.com/cloudflare/cloudflared/releases/latest/download/cloudflared-linux-amd64.deb\n",
        "  !dpkg -i cloudflared-linux-amd64.deb\n",
        "  !rm -rf nohup.out\n",
        "  import time\n",
        "  # Run cloudflare\n",
        "  !nohup cloudflared tunnel --url localhost:7860 &\n",
        "  clear_output()\n",
        "  time.sleep(5)\n",
        "  # Find and print the Cloudflare URL with a prefix\n",
        "  cloudflare_url = !grep -oE \"https://[a-zA-Z0-9.-]+\\.trycloudflare\\.com\" nohup.out\n",
        "  print(f\"Cloudflare Tunnel Public URL: {cloudflare_url[0]}\")\n",
        "elif Tunnel == \"LocalTunnel\":\n",
        "  share_flag = \"\"\n",
        "  # install\n",
        "  !npm install -g localtunnel\n",
        "  import time\n",
        "  import urllib\n",
        "  # run localtunnel\n",
        "  with open('url.txt', 'w') as file:\n",
        "        file.write('')\n",
        "\n",
        "  get_ipython().system_raw('lt --port 7860 >> url.txt 2>&1 &')\n",
        "\n",
        "  time.sleep(4)\n",
        "\n",
        "  endpoint_ip = urllib.request.urlopen('https://ipv4.icanhazip.com').read().decode('utf8').strip(\"\\n\")\n",
        "\n",
        "  with open('url.txt', 'r') as file:\n",
        "      tunnel_url = file.read()\n",
        "      tunnel_url = tunnel_url.replace(\"your url is: \", \"\")\n",
        "\n",
        "  clear_output()\n",
        "  print(f\"LocalTunnel Tunnel Public URL: \\033[0m\\033[93m{tunnel_url}\\033[0m\", end=\"\\033[0m\")\n",
        "\n",
        "  print(f'LocalTunnel Password: {endpoint_ip}')\n",
        "elif Tunnel == \"Horizon\":\n",
        "  share_flag = \"\"\n",
        "  # install\n",
        "  !npm install -g @hrzn/cli\n",
        "  import time\n",
        "  # login\n",
        "  !hrzn login $horizon_id\n",
        "  # run horizon\n",
        "  with open('url.txt', 'w') as file:\n",
        "        file.write('')\n",
        "\n",
        "  get_ipython().system_raw('hrzn tunnel http://localhost:7860 >> url.txt 2>&1 &')\n",
        "\n",
        "  time.sleep(4)\n",
        "\n",
        "  with open('url.txt', 'r') as file:\n",
        "      tunnel_url = file.read()\n",
        "      tunnel_url = !grep -oE \"https://[a-zA-Z0-9.-]+\\.hrzn\\.run\" url.txt\n",
        "      tunnel_url = tunnel_url[0]\n",
        "\n",
        "  clear_output()\n",
        "\n",
        "  print(f\"Horizon Tunnel Public URL: \\033[0m\\033[93m{tunnel_url}\\033[0m\")\n",
        "\n",
        "\n",
        "# kills previously running processes\n",
        "!fuser -k 7860/tcp\n",
        "\n",
        "\n",
        "command = f\"python Scripts/Run_Inference_UI.py {share_flag}\"\n",
        "!{command}"
      ],
      "metadata": {
        "cellView": "form",
        "id": "PDKNHSttn7-O"
      },
      "execution_count": null,
      "outputs": []
    }
  ],
  "metadata": {
    "colab": {
      "provenance": [],
      "gpuType": "T4",
      "include_colab_link": true
    },
    "kernelspec": {
      "display_name": "Python 3",
      "name": "python3"
    },
    "language_info": {
      "name": "python"
    },
    "accelerator": "GPU"
  },
  "nbformat": 4,
  "nbformat_minor": 0
}