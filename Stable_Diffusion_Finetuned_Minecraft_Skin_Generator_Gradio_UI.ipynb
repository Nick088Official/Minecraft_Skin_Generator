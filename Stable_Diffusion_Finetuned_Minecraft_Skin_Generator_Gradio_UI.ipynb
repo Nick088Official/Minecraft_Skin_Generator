{
  "cells": [
    {
      "cell_type": "markdown",
      "metadata": {
        "id": "view-in-github",
        "colab_type": "text"
      },
      "source": [
        "<a href=\"https://colab.research.google.com/github/Nick088Official/Stable_Diffusion_Finetuned_Minecraft_Skin_Generator/blob/main/Stable_Diffusion_Finetuned_Minecraft_Skin_Generator_Gradio_UI.ipynb\" target=\"_parent\"><img src=\"https://colab.research.google.com/assets/colab-badge.svg\" alt=\"Open In Colab\"/></a>"
      ]
    },
    {
      "cell_type": "markdown",
      "source": [
        "# Stable Diffusion Finetuned Minecraft Skin Generator Gradio UI\n",
        "\n",
        "[Github Repo](https://github.com/Nick088Official/Stable_Diffusion_Finetuned_Minecraft_Skin_Generator)\n",
        "\n",
        "Google Colab Notebook Made By [Nick088](https://linktr.ee/Nick088)\n",
        "\n",
        "**WARNING: GRADIO WEB UI COULD RISK YOUR FREE TIER COLAB ACC**\n",
        "\n",
        "Credits: [Nick088](https://linktr.ee/Nick088), [Monadical-SAS](https://github.com/Monadical-SAS)"
      ],
      "metadata": {
        "id": "Va5kmdY9wd9n"
      }
    },
    {
      "cell_type": "code",
      "execution_count": null,
      "metadata": {
        "id": "xVXg-SypqUxb",
        "cellView": "form"
      },
      "outputs": [],
      "source": [
        "#@title Install\n",
        "!git clone https://huggingface.co/spaces/Nick088/Stable_Diffusion_Finetuned_Minecraft_Skin_Generator\n",
        "%cd Stable_Diffusion_Finetuned_Minecraft_Skin_Generator\n",
        "!pip install -r requirements.txt\n",
        "from IPython.display import clear_output\n",
        "clear_output()\n",
        "print(\"Installed!\")"
      ]
    },
    {
      "cell_type": "code",
      "source": [
        "#@title Run Inference UI\n",
        "\n",
        "!python app.py"
      ],
      "metadata": {
        "cellView": "form",
        "id": "PDKNHSttn7-O"
      },
      "execution_count": null,
      "outputs": []
    }
  ],
  "metadata": {
    "colab": {
      "provenance": [],
      "gpuType": "T4",
      "authorship_tag": "ABX9TyO55In6zLuVX9Es4+oZ3vNw",
      "include_colab_link": true
    },
    "kernelspec": {
      "display_name": "Python 3",
      "name": "python3"
    },
    "language_info": {
      "name": "python"
    },
    "accelerator": "GPU"
  },
  "nbformat": 4,
  "nbformat_minor": 0
}