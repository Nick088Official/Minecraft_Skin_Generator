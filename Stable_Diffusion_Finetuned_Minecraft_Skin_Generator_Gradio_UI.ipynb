{
  "cells": [
    {
      "cell_type": "markdown",
      "metadata": {
        "id": "view-in-github",
        "colab_type": "text"
      },
      "source": [
        "<a href=\"https://colab.research.google.com/github/Nick088Official/Stable_Diffusion_Finetuned_Minecraft_Skin_Generator/blob/main/Stable_Diffusion_Finetuned_Minecraft_Skin_Generator_Gradio_UI.ipynb\" target=\"_parent\"><img src=\"https://colab.research.google.com/assets/colab-badge.svg\" alt=\"Open In Colab\"/></a>"
      ]
    },
    {
      "cell_type": "markdown",
      "source": [
        "# Stable Diffusion Finetuned Minecraft Skin Generator Gradio UI\n",
        "\n",
        "[Github Repo](https://github.com/Nick088Official/Stable_Diffusion_Finetuned_Minecraft_Skin_Generator)\n",
        "\n",
        "Based on the [Hugging Face Space](https://huggingface.co/spaces/Nick088/Stable_Diffusion_Finetuned_Minecraft_Skin_Generator)\n",
        "\n",
        "**WARNING: GRADIO WEB UI COULD RISK YOUR FREE TIER COLAB ACC**\n",
        "\n",
        "Credits:\n",
        "- Author of the AI Model: Cory Spencer <cory@monadical.com>\n",
        "- Forked Improved Version: [Nick088](https://linktr.ee/Nick088)\n",
        "- daroche (helping me fix the 3d model texture isue)\n",
        "- [Brottweiler](https://gist.github.com/Brottweiler/483d0856c6692ef70cf90bf1a85ce364) (script to fix the 3d model texture\n",
        "- [meew](https://huggingface.co/spaces/meeww/Minecraft_Skin_Generator/blob/main/models/player_model.glb) (Minecraft Player 3d model)"
      ],
      "metadata": {
        "id": "Va5kmdY9wd9n"
      }
    },
    {
      "cell_type": "code",
      "execution_count": null,
      "metadata": {
        "id": "xVXg-SypqUxb",
        "cellView": "form"
      },
      "outputs": [],
      "source": [
        "#@title Install\n",
        "!git clone https://huggingface.co/spaces/Nick088/Stable_Diffusion_Finetuned_Minecraft_Skin_Generator\n",
        "%cd Stable_Diffusion_Finetuned_Minecraft_Skin_Generator\n",
        "!pip install -r requirements.txt\n",
        "!apt-get install $(cat packages.txt)\n",
        "from IPython.display import clear_output\n",
        "print(\"Installed!\")"
      ]
    },
    {
      "cell_type": "code",
      "source": [
        "#@title Run Inference UI\n",
        "\n",
        "!sed -i 's/import spaces/ /g'  /content/Stable_Diffusion_Finetuned_Minecraft_Skin_Generator/app.py\n",
        "!sed -i 's/@spaces.GPU()/ /g'  /content/Stable_Diffusion_Finetuned_Minecraft_Skin_Generator/app.py\n",
        "\n",
        "!python app.py"
      ],
      "metadata": {
        "cellView": "form",
        "id": "PDKNHSttn7-O"
      },
      "execution_count": null,
      "outputs": []
    }
  ],
  "metadata": {
    "colab": {
      "provenance": [],
      "gpuType": "T4",
      "include_colab_link": true
    },
    "kernelspec": {
      "display_name": "Python 3",
      "name": "python3"
    },
    "language_info": {
      "name": "python"
    },
    "accelerator": "GPU"
  },
  "nbformat": 4,
  "nbformat_minor": 0
}