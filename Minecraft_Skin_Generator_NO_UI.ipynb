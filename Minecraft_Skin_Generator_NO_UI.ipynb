{
  "cells": [
    {
      "cell_type": "markdown",
      "metadata": {
        "id": "view-in-github",
        "colab_type": "text"
      },
      "source": [
        "<a href=\"https://colab.research.google.com/github/Nick088Official/Minecraft_Skin_Generator/blob/main/Minecraft_Skin_Generator_NO_UI.ipynb\" target=\"_parent\"><img src=\"https://colab.research.google.com/assets/colab-badge.svg\" alt=\"Open In Colab\"/></a>"
      ]
    },
    {
      "cell_type": "markdown",
      "source": [
        "# Minecraft Skin Generator NO UI\n",
        "\n",
        "Credits:\n",
        "- Author of the AI Model: Cory Spencer <cory@monadical.com>\n",
        "- Forked Improved Version & Ports: [Nick088](https://linktr.ee/Nick088)\n",
        "- daroche (helping me fix the 3d model texture isue)\n",
        "- [Brottweiler](https://gist.github.com/Brottweiler/483d0856c6692ef70cf90bf1a85ce364) (script to fix the 3d model texture\n",
        "- [meew](https://huggingface.co/spaces/meeww/Minecraft_Skin_Generator/blob/main/models/player_model.glb) (Minecraft Player 3d model)"
      ],
      "metadata": {
        "id": "Va5kmdY9wd9n"
      }
    },
    {
      "cell_type": "code",
      "execution_count": null,
      "metadata": {
        "id": "xVXg-SypqUxb",
        "cellView": "form"
      },
      "outputs": [],
      "source": [
        "#@title Install\n",
        "#@markdown If you get a restart runtime warning, you don't have to, just click cancel\n",
        "!git clone https://github.com/Nick088Official/Minecraft_Skin_Generator.git\n",
        "%cd Minecraft_Skin_Generator\n",
        "!pip install -r /content/Minecraft_Skin_Generator/Scripts/requirements_no_ui.txt\n",
        "!apt-get install imagemagick\n",
        "from IPython.display import clear_output\n",
        "from google.colab import files\n",
        "clear_output()\n",
        "print(\"Installed!\")"
      ]
    },
    {
      "cell_type": "code",
      "execution_count": null,
      "metadata": {
        "id": "OENv2tMOqr93",
        "cellView": "form"
      },
      "outputs": [],
      "source": [
        "#@title Run Inference\n",
        "\n",
        "#@markdown Your Prompt\n",
        "prompt = \"An agent Spy\" #@param {type:\"string\"}\n",
        "\n",
        "#@markdown Which Stable Diffusion Model to use for inferencing, xl understands prompts better\n",
        "stable_diffusion_model = 'xl' #@param ['2', 'xl']\n",
        "\n",
        "#@markdown The number of denoising steps of the image. More denoising steps usually lead to a higher quality image at the cost of slower inference\n",
        "num_inference_steps = 25 #@param {type:\"integer\"}\n",
        "\n",
        "#@markdown How closely the generated image adheres to the prompt\n",
        "guidance_scale = 7.5 #@param {type:\"number\"}\n",
        "\n",
        "#@markdown The precision type to load the model, like fp16 which is faster, or fp32 which is more precise but more resource consuming and requires paid gpu\n",
        "model_precision_type = 'fp16' #@param ['fp16', 'fp32']\n",
        "\n",
        "#@markdown A starting point to initiate generationg, put 0 for random\n",
        "seed = 42 #@param {type:\"integer\"}\n",
        "\n",
        "#@markdown The name of the output skin image asset\n",
        "filename = \"output-skin.png\" #@param {type:\"string\"}\n",
        "\n",
        "#@markdown View the 3D Model of the skin too\n",
        "model_3d = True #@param {type:\"boolean\"}\n",
        "\n",
        "#@markdown Produce verbose (detailed) output while running\n",
        "verbose = False #@param {type:\"boolean\"}\n",
        "\n",
        "if verbose:\n",
        "  verbose_opt = '--verbose'\n",
        "else:\n",
        "  verbose_opt = ''\n",
        "\n",
        "if model_3d:\n",
        "  model_3d_opt = '--model_3d'\n",
        "else:\n",
        "  model_3d_opt = ''\n",
        "\n",
        "if stable_diffusion_model == '2':\n",
        "  sd_model = \"minecraft-skins\"\n",
        "else:\n",
        "  sd_model = \"minecraft-skins-sdxl\"\n",
        "\n",
        "command = f\"Scripts/{sd_model}.py '{prompt}' {num_inference_steps} {guidance_scale} {model_precision_type} {seed} {filename} {model_3d_opt} {verbose_opt}\"\n",
        "\n",
        "!python $command"
      ]
    },
    {
      "cell_type": "code",
      "source": [
        "#@title Display the Generated Minecraft Skin Asset\n",
        "\n",
        "import matplotlib.pyplot as plt\n",
        "\n",
        "img = plt.imread(f\"output_minecraft_skins/{filename}\")\n",
        "\n",
        "plt.axis(\"off\")\n",
        "\n",
        "plt.imshow(img)"
      ],
      "metadata": {
        "cellView": "form",
        "id": "qMA7v2-EgevU"
      },
      "execution_count": null,
      "outputs": []
    },
    {
      "cell_type": "code",
      "source": [
        "#@title Download the Generated Minecraft Skin Asset\n",
        "\n",
        "files.download(f\"output_minecraft_skins/{filename}\")"
      ],
      "metadata": {
        "cellView": "form",
        "id": "pmYxJ_pLdr2M"
      },
      "execution_count": null,
      "outputs": []
    },
    {
      "cell_type": "code",
      "source": [
        "#@title Download the Generated Minecraft Skin 3D Model (only if you checked the model_3d box)\n",
        "\n",
        "files.download(f\"output_minecraft_skins/{filename}\")"
      ],
      "metadata": {
        "cellView": "form",
        "id": "hTCwIkV49Acs"
      },
      "execution_count": null,
      "outputs": []
    }
  ],
  "metadata": {
    "colab": {
      "provenance": [],
      "gpuType": "T4",
      "include_colab_link": true
    },
    "kernelspec": {
      "display_name": "Python 3",
      "name": "python3"
    },
    "language_info": {
      "name": "python"
    },
    "accelerator": "GPU"
  },
  "nbformat": 4,
  "nbformat_minor": 0
}
