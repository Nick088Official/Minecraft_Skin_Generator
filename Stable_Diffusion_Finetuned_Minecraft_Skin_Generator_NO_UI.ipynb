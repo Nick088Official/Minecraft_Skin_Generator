{
  "cells": [
    {
      "cell_type": "markdown",
      "metadata": {
        "id": "view-in-github",
        "colab_type": "text"
      },
      "source": [
        "<a href=\"https://colab.research.google.com/github/Nick088Official/Stable_Diffusion_Finetuned_Minecraft_Skin_Generator/blob/main/Stable_Diffusion_Finetuned_Minecraft_Skin_Generator_NO_UI.ipynb\" target=\"_parent\"><img src=\"https://colab.research.google.com/assets/colab-badge.svg\" alt=\"Open In Colab\"/></a>"
      ]
    },
    {
      "cell_type": "markdown",
      "source": [
        "# Stable Diffusion Finetuned Minecraft Skin Generator NO UI\n",
        "\n",
        "Google Colab Notebook Made By [Nick088](https://linktr.ee/Nick088)\n",
        "\n",
        "Credits: [Nick088](https://linktr.ee/Nick088), [Monadical-SAS](https://github.com/Monadical-SAS)"
      ],
      "metadata": {
        "id": "Va5kmdY9wd9n"
      }
    },
    {
      "cell_type": "code",
      "execution_count": null,
      "metadata": {
        "id": "xVXg-SypqUxb",
        "cellView": "form"
      },
      "outputs": [],
      "source": [
        "#@title Install\n",
        "!git clone https://github.com/Nick088Official/Stable_Diffusion_Finetuned_Minecraft_Skin_Generator.git\n",
        "%cd Stable_Diffusion_Finetuned_Minecraft_Skin_Generator\n",
        "!pip install diffusers\n",
        "!pip install accelerate # for cpu usage\n",
        "from IPython.display import clear_output\n",
        "from google.colab import files\n",
        "clear_output()\n",
        "print(\"Installed!\")"
      ]
    },
    {
      "cell_type": "code",
      "execution_count": null,
      "metadata": {
        "id": "OENv2tMOqr93",
        "cellView": "form"
      },
      "outputs": [],
      "source": [
        "#@title Run Inference\n",
        "\n",
        "#@markdown Your Prompt\n",
        "prompt = \"An agent Spy\" #@param {type:\"string\"}\n",
        "\n",
        "#@markdown Which Stable Diffusion Model to use for inferencing, xl understands prompts better\n",
        "stable_diffusion_model = 'xl' #@param ['2', 'xl']\n",
        "\n",
        "#@markdown The number of denoising steps of the image. More denoising steps usually lead to a higher quality image at the cost of slower inference\n",
        "num_inference_steps = 25 #@param {type:\"integer\"}\n",
        "\n",
        "#@markdown How closely the generated image adheres to the prompt\n",
        "guidance_scale = 7.5 #@param {type:\"number\"}\n",
        "\n",
        "#@markdown The precision type to load the model, like fp16 which is faster, or fp32 which gives better results but is slower and requires paid gpu\n",
        "model_precision_type = 'fp16' #@param ['fp16', 'fp32']\n",
        "\n",
        "#@markdown A starting point to initiate generationg, put 0 for random\n",
        "seed = 42 #@param {type:\"integer\"}\n",
        "\n",
        "#@markdown The name of the output skin image asset\n",
        "output_image_name = \"output-skin.png\" #@param {type:\"string\"}\n",
        "\n",
        "#@markdown Produce verbose (detailed) output while running\n",
        "verbose = False #@param {type:\"boolean\"}\n",
        "\n",
        "if verbose:\n",
        "  verbose_opt = '--verbose'\n",
        "else:\n",
        "  verbose_opt = ''\n",
        "\n",
        "if stable_diffusion_model == '2':\n",
        "  sd_model = \"minecraft-skins\"\n",
        "else:\n",
        "  sd_model = \"minecraft-skins-sdxl\"\n",
        "\n",
        "command = f\"Python_Scripts/{sd_model}.py '{prompt}' {num_inference_steps} {guidance_scale} {model_precision_type} {seed} {output_image_name} {verbose_opt}\"\n",
        "\n",
        "!python $command\n",
        "\n",
        "files.download(f\"output_minecraft_skins/{output_image_name}\")"
      ]
    }
  ],
  "metadata": {
    "colab": {
      "provenance": [],
      "gpuType": "T4",
      "include_colab_link": true
    },
    "kernelspec": {
      "display_name": "Python 3",
      "name": "python3"
    },
    "language_info": {
      "name": "python"
    },
    "accelerator": "GPU"
  },
  "nbformat": 4,
  "nbformat_minor": 0
}