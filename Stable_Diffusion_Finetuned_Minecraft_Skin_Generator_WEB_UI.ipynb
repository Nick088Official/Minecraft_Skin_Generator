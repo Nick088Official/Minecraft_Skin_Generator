{
  "cells": [
    {
      "cell_type": "markdown",
      "metadata": {
        "id": "view-in-github",
        "colab_type": "text"
      },
      "source": [
        "<a href=\"https://colab.research.google.com/github/Nick088Official/Stable_Diffusion_Finetuned_Minecraft_Skin_Generator/blob/main/Stable_Diffusion_Finetuned_Minecraft_Skin_Generator_WEB_UI.ipynb\" target=\"_parent\"><img src=\"https://colab.research.google.com/assets/colab-badge.svg\" alt=\"Open In Colab\"/></a>"
      ]
    },
    {
      "cell_type": "markdown",
      "source": [
        "# Stable Diffusion Finetuned Minecraft Skin Generator WEB UI\n",
        "\n",
        "Based on the [Hugging Face Space](https://huggingface.co/spaces/Nick088/Stable_Diffusion_Finetuned_Minecraft_Skin_Generator)\n",
        "\n",
        "**WARNING: WEB UI COULD RISK YOUR FREE TIER COLAB ACC**\n",
        "\n",
        "Credits:\n",
        "- Author of the AI Model: Cory Spencer <cory@monadical.com>\n",
        "- Forked Improved Version & Ports: [Nick088](https://linktr.ee/Nick088)\n",
        "- daroche (helping me fix the 3d model texture isue)\n",
        "- [Brottweiler](https://gist.github.com/Brottweiler/483d0856c6692ef70cf90bf1a85ce364) (script to fix the 3d model texture)\n",
        "- [not-holar](https://huggingface.co/not-holar) (made the rendering of the image in the web ui look pixelated like minecraft and have a checkered background)\n",
        "- [meew](https://huggingface.co/spaces/meeww/Minecraft_Skin_Generator/blob/main/models/player_model.glb) (Minecraft Player 3d model)"
      ],
      "metadata": {
        "id": "Va5kmdY9wd9n"
      }
    },
    {
      "cell_type": "code",
      "execution_count": null,
      "metadata": {
        "id": "xVXg-SypqUxb",
        "cellView": "form"
      },
      "outputs": [],
      "source": [
        "#@title Install\n",
        "#@markdown If you get a restart runtime warning, you don't have to, just click cancel\n",
        "!git clone https://huggingface.co/spaces/Nick088/Stable_Diffusion_Finetuned_Minecraft_Skin_Generator\n",
        "%cd Stable_Diffusion_Finetuned_Minecraft_Skin_Generator\n",
        "!pip install -r requirements.txt\n",
        "!pip install pyngrok\n",
        "!apt-get install $(cat packages.txt)\n",
        "from IPython.display import clear_output\n",
        "clear_output()\n",
        "print(\"Installed!\")"
      ]
    },
    {
      "cell_type": "code",
      "source": [
        "#@title Run Inference UI\n",
        "import time\n",
        "\n",
        "#@markdown The type of tunnel you wanna use for seeing the public link, so that if one of them is down, you can use the other one.\n",
        "Tunnel = \"Gradio\" #@param [\"Gradio\", \"Ngrok\", \"Cloudfare\"]\n",
        "\n",
        "#@markdown Also when using Ngrok or Cloudfare, you need to wait for the Local URL to appear, and only after that click on the Public URL which is above.\n",
        "\n",
        "#@markdown Use the following option only if you chose Ngrok as the Tunnel:\n",
        "\n",
        "#@markdown You can get the Ngrok Tunnel Authtoken here: https://dashboard.ngrok.com/tunnels/authtokens/new.\n",
        "\n",
        "ngrok_tunnel_authtoken = \"\" #@param {type:\"string\"}\n",
        "\n",
        "!sed -i 's/import spaces/ /g'  /content/Stable_Diffusion_Finetuned_Minecraft_Skin_Generator/app.py\n",
        "!sed -i 's/@spaces.GPU()/ /g'  /content/Stable_Diffusion_Finetuned_Minecraft_Skin_Generator/app.py\n",
        "\n",
        "if Tunnel == \"Gradio\":\n",
        "  !sed -i 's/share=False/share=True/g'  /content/Stable_Diffusion_Finetuned_Minecraft_Skin_Generator/app.py\n",
        "if Tunnel == \"Ngrok\":\n",
        "  !sed -i 's/share=True/share=False/g'  /content/Stable_Diffusion_Finetuned_Minecraft_Skin_Generator/app.py\n",
        "  from pyngrok import ngrok\n",
        "  ngrok.set_auth_token(ngrok_tunnel_authtoken)\n",
        "  http_tunnel = ngrok.connect(7860, bind_tls=True)\n",
        "  print(\"Ngrok Tunnel Public URL:\", http_tunnel.public_url)\n",
        "elif Tunnel == \"Cloudfare\":\n",
        "  !sed -i 's/share=True/share=False/g'  /content/Stable_Diffusion_Finetuned_Minecraft_Skin_Generator/app.py\n",
        "  # download cloudfare\n",
        "  !curl -LO https://github.com/cloudflare/cloudflared/releases/latest/download/cloudflared-linux-amd64.deb\n",
        "  !dpkg -i cloudflared-linux-amd64.deb\n",
        "  !rm -rf nohup.out\n",
        "  # Run cloudflare\n",
        "  !nohup cloudflared tunnel --url localhost:7860 &\n",
        "  clear_output()\n",
        "  time.sleep(5)\n",
        "  # Find and print the Cloudflare URL with a prefix\n",
        "  cloudflare_url = !grep -oE \"https://[a-zA-Z0-9.-]+\\.trycloudflare\\.com\" nohup.out\n",
        "  print(f\"Cloudfare Tunnel Public URL: {cloudflare_url[0]}\")\n",
        "\n",
        "!python app.py"
      ],
      "metadata": {
        "cellView": "form",
        "id": "PDKNHSttn7-O"
      },
      "execution_count": null,
      "outputs": []
    }
  ],
  "metadata": {
    "colab": {
      "provenance": [],
      "gpuType": "T4",
      "include_colab_link": true
    },
    "kernelspec": {
      "display_name": "Python 3",
      "name": "python3"
    },
    "language_info": {
      "name": "python"
    },
    "accelerator": "GPU"
  },
  "nbformat": 4,
  "nbformat_minor": 0
}